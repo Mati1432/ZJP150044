{
 "cells": [
  {
   "cell_type": "code",
   "execution_count": 4,
   "metadata": {
    "collapsed": true
   },
   "outputs": [
    {
     "name": "stdout",
     "output_type": "stream",
     "text": [
      "2012\n",
      "2022\n",
      "2039\n",
      "Piotr encyklopedia\n",
      "Andrzej Math\n",
      "Adam hiT\n",
      "Andrzej Math nowaera olsztyn 2012\n",
      "Andrzej Math nowaera olsztyn 2012\n",
      "Andrzej Math nowaera olsztyn 2012\n"
     ]
    }
   ],
   "source": [
    "import copy\n",
    "\n",
    "\n",
    "class Book:\n",
    "    def __init__(self, author, title, publisher, place_of_release, year):\n",
    "        self.author: str = author\n",
    "        self.title: str = title\n",
    "        self.publisher: str = publisher\n",
    "        self.place_of_release: str = place_of_release\n",
    "        self.year: int = year\n",
    "\n",
    "    def __str__(self):\n",
    "        print(self.author, self.title, self.publisher, self.place_of_release, self.year)\n",
    "\n",
    "\n",
    "b1 = Book('Andrzej', 'Math', 'nowaera', 'olsztyn', 2012)\n",
    "b2 = Book('Adam', 'hiT', 'helion', 'olsztyn', 2022)\n",
    "b3 = Book('Piotr', 'encyklopedia', 'wydpol', 'olsztyn', 2039)\n",
    "\n",
    "books = [b1, b2, b3]\n",
    "books.sort(key=lambda x: x.year)\n",
    "for x in books:\n",
    "    print(x.year)\n",
    "\n",
    "books.sort(key=lambda x: (x.author, x.title), reverse=True)\n",
    "for x in books:\n",
    "    print(x.author, x.title)\n",
    "\n",
    "kopia = copy.copy(b1)\n",
    "deep_kopia = copy.deepcopy(b1)\n",
    "kopia.rok_wydania = 42\n",
    "deep_kopia.rok_wydania = 31\n",
    "kopia.__str__()\n",
    "b1.__str__()\n",
    "deep_kopia.__str__()"
   ]
  },
  {
   "cell_type": "code",
   "execution_count": 20,
   "outputs": [
    {
     "name": "stdout",
     "output_type": "stream",
     "text": [
      "Adam Adam\n",
      "Kamil Kamil\n",
      "Mati Mati\n",
      "Mati Kamil Adam MATH nowaera olsztyn 2012\n",
      "Kamil Kamil MATH nowaera olsztyn 2012\n",
      "Kamil Kamil MATH nowaera olsztyn 2012\n",
      "original 1647356777856\n",
      "copy 1647356520048\n",
      "deep copy 1647356520384\n"
     ]
    }
   ],
   "source": [
    "import copy\n",
    "\n",
    "\n",
    "class Author:\n",
    "    def __init__(self, name, surname):\n",
    "        self.name = name\n",
    "        self.surname = surname\n",
    "\n",
    "\n",
    "class Book:\n",
    "    def __init__(self, author, title, publisher, place_of_release, year):\n",
    "        self.author: str = author.name + ' ' + author.surname\n",
    "        self.title: str = title\n",
    "        self.publisher: str = publisher\n",
    "        self.place_of_release: str = place_of_release\n",
    "        self.year: int = year\n",
    "\n",
    "    def __str__(self):\n",
    "        print(self.author, self.title, self.publisher, self.place_of_release, self.year)\n",
    "\n",
    "\n",
    "author1 = Author('Mati', 'Mati')\n",
    "author2 = Author('Adam', 'Adam')\n",
    "author3 = Author('Kamil', 'Kamil')\n",
    "\n",
    "b1 = Book(author3, 'MATH', 'nowaera', 'olsztyn', 2012)\n",
    "b2 = Book(author2, 'STATISTIC', 'helion', 'warszawa', 2004)\n",
    "b3 = Book(author1, 'REGRESSION', 'wydpol', 'krakow', 2019)\n",
    "\n",
    "books = [b1, b2, b3]\n",
    "books.sort(key=lambda x: x.author)\n",
    "for x in books:\n",
    "    print(x.author)\n",
    "\n",
    "copy_x = copy.copy(b1)\n",
    "deep_copy = copy.deepcopy(b1)\n",
    "copy_x.author = 'Mati Kamil Adam'\n",
    "copy_x.__str__()\n",
    "b1.__str__()\n",
    "deep_kopia.__str__()\n",
    "print('original',id(b1))\n",
    "print('copy',id(copy_x))\n",
    "\n",
    "print('deep copy',id(deep_copy))"
   ],
   "metadata": {
    "collapsed": false
   }
  },
  {
   "cell_type": "code",
   "execution_count": null,
   "outputs": [],
   "source": [],
   "metadata": {
    "collapsed": false,
    "pycharm": {
     "is_executing": true
    }
   }
  },
  {
   "cell_type": "code",
   "execution_count": 9,
   "outputs": [],
   "source": [],
   "metadata": {
    "collapsed": false
   }
  }
 ],
 "metadata": {
  "kernelspec": {
   "display_name": "Python 3",
   "language": "python",
   "name": "python3"
  },
  "language_info": {
   "codemirror_mode": {
    "name": "ipython",
    "version": 2
   },
   "file_extension": ".py",
   "mimetype": "text/x-python",
   "name": "python",
   "nbconvert_exporter": "python",
   "pygments_lexer": "ipython2",
   "version": "2.7.6"
  }
 },
 "nbformat": 4,
 "nbformat_minor": 0
}
