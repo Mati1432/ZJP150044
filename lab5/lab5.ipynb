{
 "cells": [
  {
   "cell_type": "code",
   "execution_count": 9,
   "metadata": {
    "collapsed": true
   },
   "outputs": [
    {
     "name": "stdout",
     "output_type": "stream",
     "text": [
      "Number Account: 1 Balance Account: 2137\n",
      "Number Account: 1 Balance Account: 4137\n",
      "Number Account: 1 Balance Account: 4037\n",
      "Number Account: 1 Balance Account: 0\n",
      "Number Account: 2 Balance Account: 4337\n"
     ]
    }
   ],
   "source": [
    "class BankAccount:\n",
    "    def __init__(self, number: int, balance: float = 0) -> None:\n",
    "        self.number = number\n",
    "        self.balance = balance\n",
    "\n",
    "    def deposit(self, amount: float) -> None:\n",
    "        self.balance += amount\n",
    "\n",
    "    def withdraw(self, amount: float) -> None:\n",
    "        if amount > self.balance:\n",
    "            print('you dont have that much money')\n",
    "        self.balance -= amount\n",
    "\n",
    "    def merge_to(self, other_account: float) -> None:\n",
    "        other_account.balance += self.balance\n",
    "        self.balance = 0\n",
    "\n",
    "    def __str__(self):\n",
    "        return f'Number Account: {self.number} Balance Account: {self.balance}'\n",
    "\n",
    "account1 = BankAccount(1, 2137)\n",
    "print(account1)\n",
    "account1.deposit(2000)\n",
    "print(account1)\n",
    "account1.withdraw(100)\n",
    "print(account1)\n",
    "account2 = BankAccount(2, 300)\n",
    "account1.merge_to(account2)\n",
    "print(account1)\n",
    "print(account2)"
   ]
  },
  {
   "cell_type": "code",
   "execution_count": 10,
   "outputs": [],
   "source": [
    "class SavingsAccount(BankAccount):\n",
    "    def __init__(self, number: int, balance: float = 0, interest_rate: float = 0.05):\n",
    "        super().__init__(number, balance)\n",
    "        self.interest_rate = interest_rate\n",
    "\n",
    "    def get_interests(self):\n",
    "        return self.balance * self.interest_rate\n",
    "\n",
    "    def capitalize(self):\n",
    "        self.balance += self.get_interests()\n"
   ],
   "metadata": {
    "collapsed": false
   }
  },
  {
   "cell_type": "code",
   "execution_count": 11,
   "outputs": [
    {
     "name": "stdout",
     "output_type": "stream",
     "text": [
      "Number Account: 3 Balance Account: 100.01\n",
      "5.000500000000001\n",
      "Number Account: 3 Balance Account: 105.01050000000001\n"
     ]
    }
   ],
   "source": [
    "account3 = SavingsAccount(3, 100.01)\n",
    "print(account3)\n",
    "print(account3.get_interests())\n",
    "account3.capitalize()\n",
    "print(account3)\n"
   ],
   "metadata": {
    "collapsed": false
   }
  },
  {
   "cell_type": "code",
   "execution_count": 12,
   "outputs": [],
   "source": [
    "class CreditAccount(SavingsAccount):\n",
    "\n",
    "    def withdraw(self, amount: float) -> None:\n",
    "        self.balance -= amount\n",
    "\n",
    "    def merge_to(self, other_account: float) -> None:\n",
    "        if self.balance < 0:\n",
    "            return print('account balance is negative')\n",
    "        super().merge_to(other_account)\n",
    "\n",
    "    def get_interests(self):\n",
    "        if self.balance < 0:\n",
    "            return 0\n",
    "        return self.balance * self.interest_rate\n"
   ],
   "metadata": {
    "collapsed": false
   }
  },
  {
   "cell_type": "code",
   "execution_count": 13,
   "outputs": [
    {
     "name": "stdout",
     "output_type": "stream",
     "text": [
      "Number Account: 4 Balance Account: 200\n",
      "Number Account: 4 Balance Account: 149.85\n",
      "Number Account: 3 Balance Account: 254.8605\n",
      "0.0\n",
      "Number Account: 4 Balance Account: 0\n",
      "Number Account: 4 Balance Account: 21.11\n",
      "1.0555\n"
     ]
    }
   ],
   "source": [
    "account4 = CreditAccount(4, 200)\n",
    "print(account4)\n",
    "account4.withdraw(50.15)\n",
    "print(account4)\n",
    "account4.merge_to(account3)\n",
    "print(account3)\n",
    "print(account4.get_interests())\n",
    "print(account4)\n",
    "account4.deposit(21.11)\n",
    "print(account4)\n",
    "print(account4.get_interests())"
   ],
   "metadata": {
    "collapsed": false
   }
  },
  {
   "cell_type": "code",
   "execution_count": 15,
   "outputs": [
    {
     "name": "stdout",
     "output_type": "stream",
     "text": [
      "Lenovo 5\n",
      "Dell 7\n",
      "Total number of Laptops 12\n",
      "Laptops are portable\n",
      "Total number of Laptops 0\n"
     ]
    }
   ],
   "source": [
    "class Laptop:\n",
    "    laptop_count = 0\n",
    "    def __init__(self, name: str, count: int):\n",
    "        self.name = name\n",
    "        self.count = count\n",
    "        Laptop.laptop_count += count\n",
    "\n",
    "    @staticmethod\n",
    "    def advantage():\n",
    "        return print('Laptops are portable')\n",
    "\n",
    "    @staticmethod\n",
    "    def reset_count():\n",
    "        Laptop.laptop_count = 0\n",
    "\n",
    "lenovo = Laptop(\"Lenovo\", 5)\n",
    "dell = Laptop(\"Dell\", 7)\n",
    "\n",
    "print(lenovo.name, lenovo.count)\n",
    "print(dell.name, dell.count)\n",
    "print(\"Total number of Laptops\", Laptop.laptop_count)\n",
    "Laptop.advantage()\n",
    "Laptop.reset_count()\n",
    "print(\"Total number of Laptops\", Laptop.laptop_count)\n"
   ],
   "metadata": {
    "collapsed": false
   }
  },
  {
   "cell_type": "code",
   "execution_count": 18,
   "outputs": [
    {
     "name": "stdout",
     "output_type": "stream",
     "text": [
      "1256.6370614359173\n",
      "1178.0972450961724\n"
     ]
    }
   ],
   "source": [
    "import math\n",
    "\n",
    "\n",
    "class Cylinder:\n",
    "    @staticmethod\n",
    "    def area(area_object: float, height: float) -> float:\n",
    "        return 2 * math.pi * area_object * (area_object + height)\n",
    "\n",
    "    @staticmethod\n",
    "    def capacity(area_object: float, height: float) -> float:\n",
    "        return math.pi * (area_object ** 2) * height\n",
    "\n",
    "\n",
    "print(Cylinder.area(10, 10))\n",
    "print(Cylinder.capacity(5, 15))"
   ],
   "metadata": {
    "collapsed": false
   }
  },
  {
   "cell_type": "code",
   "execution_count": null,
   "outputs": [],
   "source": [],
   "metadata": {
    "collapsed": false
   }
  }
 ],
 "metadata": {
  "kernelspec": {
   "display_name": "Python 3",
   "language": "python",
   "name": "python3"
  },
  "language_info": {
   "codemirror_mode": {
    "name": "ipython",
    "version": 2
   },
   "file_extension": ".py",
   "mimetype": "text/x-python",
   "name": "python",
   "nbconvert_exporter": "python",
   "pygments_lexer": "ipython2",
   "version": "2.7.6"
  }
 },
 "nbformat": 4,
 "nbformat_minor": 0
}
