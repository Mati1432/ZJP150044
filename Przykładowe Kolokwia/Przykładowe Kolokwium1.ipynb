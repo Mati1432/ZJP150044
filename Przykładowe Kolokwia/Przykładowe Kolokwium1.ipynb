{
 "cells": [
  {
   "cell_type": "code",
   "execution_count": 85,
   "metadata": {
    "collapsed": true
   },
   "outputs": [
    {
     "name": "stdout",
     "output_type": "stream",
     "text": [
      "True\n",
      "False\n",
      "Cel: Japonia Cena: 2350.5 Czas Podróży 2013-05-05\n"
     ]
    }
   ],
   "source": [
    "import datetime\n",
    "\n",
    "\n",
    "class Travel:\n",
    "    def __init__(self, goal: str, price: float, travel_date: datetime.date) -> None:\n",
    "        self.goal = goal\n",
    "        self.price = price\n",
    "        self.travel_date = travel_date\n",
    "\n",
    "    def __str__(self):\n",
    "        return f'Cel: {self.goal} Cena: {self.price} Czas Podróży {self.travel_date}'\n",
    "\n",
    "    def __eq__(self, other):\n",
    "        return (self.price and self.goal) == (other.price and other.goal)\n",
    "\n",
    "    def __repr__(self):\n",
    "        return '{' + self.goal + ', ' + str(self.price) + ', ' + str(self.travel_date) + '}'\n",
    "\n",
    "\n",
    "travel = Travel('Japonia', 2350.50, datetime.date(2013, 5, 5))\n",
    "travelJap = Travel('Japonia', 2350.50, datetime.date(2013, 5, 5))\n",
    "travelGer = Travel('Germany', 1350.50, datetime.date(2015, 5, 5))\n",
    "\n",
    "print('Equal', travel.__eq__(travelJap))\n",
    "print('Non Equal', travel.__eq__(travelGer))\n",
    "print(travel.__str__())\n"
   ]
  },
  {
   "cell_type": "code",
   "execution_count": 80,
   "outputs": [
    {
     "data": {
      "text/plain": "'Klasa pociągu 4 Miejsce: 95 Cel: Japonia Cena: 2350.5 Czas Podróży 2013-05-05 '"
     },
     "execution_count": 80,
     "metadata": {},
     "output_type": "execute_result"
    }
   ],
   "source": [
    "class TrainJourney(Travel):\n",
    "    def __init__(self, train_class: int, seat: str, goal: str, price: float, travel_date: datetime.date):\n",
    "        super().__init__(goal, price, travel_date)\n",
    "        self.train_class = train_class\n",
    "        self.seat = seat\n",
    "\n",
    "    def __str__(self):\n",
    "        return f'Klasa pociągu {self.train_class} Miejsce: {self.seat} Cel: {self.goal} Cena: {self.price} Czas Podróży {self.travel_date} '\n",
    "\n",
    "    def __repr__(self):\n",
    "        return '{' + self.goal + ', ' + str(self.price) + ', ' + str(self.travel_date) + '}'\n",
    "\n",
    "\n",
    "train = TrainJourney(4, '95', 'Japonia', 2350.50, datetime.date(2013, 5, 5))\n",
    "train.__str__()"
   ],
   "metadata": {
    "collapsed": false
   }
  },
  {
   "cell_type": "code",
   "execution_count": 81,
   "outputs": [
    {
     "data": {
      "text/plain": "'Linia lotnicza LOT Miejsce: 95 Cel: Japonia Cena: 2350.5 Czas Podróży 2013-05-05'"
     },
     "execution_count": 81,
     "metadata": {},
     "output_type": "execute_result"
    }
   ],
   "source": [
    "class AirTravel(Travel):\n",
    "    def __init__(self, airline: str, seat: str, goal: str, price: float, travel_date: datetime.date):\n",
    "        super().__init__(goal, price, travel_date)\n",
    "        self.airline = airline\n",
    "        self.seat = seat\n",
    "\n",
    "    def __str__(self):\n",
    "        return f'Linia lotnicza {self.airline} Miejsce: {self.seat} Cel: {self.goal} Cena: {self.price} Czas Podróży {self.travel_date}'\n",
    "\n",
    "    def __repr__(self):\n",
    "        return '{' + self.goal + ', ' + str(self.price) + ', ' + str(self.travel_date) + '}'\n",
    "\n",
    "\n",
    "lot = AirTravel('LOT', '95', 'Japonia', 2350.50, datetime.date(2013, 5, 5))\n",
    "lot.__str__()"
   ],
   "metadata": {
    "collapsed": false
   }
  },
  {
   "cell_type": "code",
   "execution_count": 82,
   "outputs": [
    {
     "name": "stdout",
     "output_type": "stream",
     "text": [
      "[{Japonia, 2350.5, 2013-05-05}, {Japonia, 2350.5, 2013-05-05}, {UK, 20000.54, 2013-05-05}]\n"
     ]
    }
   ],
   "source": [
    "travels = [\n",
    "    Travel('UK', 20000.54, datetime.date(2013, 5, 5)),\n",
    "    TrainJourney(4, '95', 'Japonia', 2350.50, datetime.date(2013, 5, 5)),\n",
    "    AirTravel('LOT', '95', 'Japonia', 2350.50, datetime.date(2013, 5, 5)),\n",
    "]\n",
    "\n",
    "travels.sort(key=lambda x: (x.price, x.travel_date))\n",
    "print(travels.__str__())"
   ],
   "metadata": {
    "collapsed": false
   }
  },
  {
   "cell_type": "code",
   "execution_count": 83,
   "outputs": [
    {
     "name": "stdout",
     "output_type": "stream",
     "text": [
      "Mateusz  18\n",
      "Mateusz  18\n",
      "Test :D  5\n",
      "False\n"
     ]
    }
   ],
   "source": [
    "import copy\n",
    "\n",
    "\n",
    "class Person:\n",
    "    def __init__(self, age: int = 18, name: str = 'Mateusz'):\n",
    "        self.age = age\n",
    "        self.name = name\n",
    "\n",
    "    def __str__(self):\n",
    "        return f'{self.name}  {self.age}'\n",
    "\n",
    "    @classmethod\n",
    "    def static_method(self, age: int, name: str) -> object:\n",
    "        return Person(age, name)\n",
    "\n",
    "    def __ne__(self, other):\n",
    "        return self.age != other.age\n",
    "\n",
    "\n",
    "human = Person()\n",
    "\n",
    "print(human)\n",
    "copy_copy = copy.copy(human)\n",
    "print(copy_copy)\n",
    "\n",
    "print(human.static_method(5, 'Test :D').__str__())\n",
    "\n",
    "human1 = Person()\n",
    "human2 = Person(18, 'Mateusz2')\n",
    "print(human1.__ne__(human2))\n"
   ],
   "metadata": {
    "collapsed": false
   }
  },
  {
   "cell_type": "code",
   "execution_count": 83,
   "outputs": [],
   "source": [],
   "metadata": {
    "collapsed": false
   }
  }
 ],
 "metadata": {
  "kernelspec": {
   "display_name": "Python 3",
   "language": "python",
   "name": "python3"
  },
  "language_info": {
   "codemirror_mode": {
    "name": "ipython",
    "version": 2
   },
   "file_extension": ".py",
   "mimetype": "text/x-python",
   "name": "python",
   "nbconvert_exporter": "python",
   "pygments_lexer": "ipython2",
   "version": "2.7.6"
  }
 },
 "nbformat": 4,
 "nbformat_minor": 0
}
