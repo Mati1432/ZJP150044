{
 "cells": [
  {
   "cell_type": "code",
   "execution_count": 1,
   "metadata": {
    "collapsed": true
   },
   "outputs": [
    {
     "data": {
      "text/plain": "22"
     },
     "execution_count": 1,
     "metadata": {},
     "output_type": "execute_result"
    }
   ],
   "source": [
    "from datetime import date\n",
    "\n",
    "\n",
    "class Person:\n",
    "    _name = ''\n",
    "    _surname = ''\n",
    "    _birth_date = 0\n",
    "\n",
    "    def __init__(self, name: str = 'Jan', surname: str = 'Kowalski', birth_date: int = '1999') -> None:\n",
    "        self._name = name\n",
    "        self._surname = surname\n",
    "        self._birth_date = birth_date\n",
    "\n",
    "    def __srt__(self) -> str:\n",
    "        return f'{self._name} {self._surname}  {str(self._birth_date)}'\n",
    "\n",
    "    def oblicz_wiek(self):\n",
    "        return date.today().year - self._birth_date\n",
    "\n",
    "\n",
    "class Student(Person):\n",
    "    _year = None\n",
    "    _numer_group = None\n",
    "    _album = None\n",
    "\n",
    "    def __init__(self, name: str = 'Jan', surname: str = 'Kowalski', birth_date: int = '1999', year: int = 1,\n",
    "                 numer_group: int = 1, album: int = 1999) -> None:\n",
    "        super().__init__(name, surname, birth_date)\n",
    "        self._year = year\n",
    "        self._numer_group = numer_group\n",
    "        self._album = album\n",
    "\n",
    "    def __srt__(self) -> [str]:\n",
    "        return f'{self._name} {self._surname}  {str(self._birth_date)}'\n",
    "\n",
    "\n",
    "s1 = Student('Jakub', 'Kowalik', 2000, 2, 2, 11100)\n",
    "s1.oblicz_wiek()"
   ]
  },
  {
   "cell_type": "code",
   "execution_count": 5,
   "outputs": [
    {
     "name": "stdout",
     "output_type": "stream",
     "text": [
      "Mateusz Śliwiński, ocena - 3.7\n",
      "\n",
      "przedmiot polski, ocena 4.5, waga 1.0\n",
      "przedmiot angielski, ocena 3, waga 0.0\n",
      "przedmiot hisoria, ocena 4, waga 1.0\n",
      "przedmiot wf, ocena 5, waga 1.0\n",
      "przedmiot biologia, ocena 2, waga 1.0\n",
      "Mati Mati, ocena - 3.1\n"
     ]
    }
   ],
   "source": [
    "class Pupil:\n",
    "    def __init__(self, imie, nazwisko):\n",
    "        self.imie = imie\n",
    "        self.nazwisko = nazwisko\n",
    "        self.marks = {'polski': 4.5, 'angielski': 3, 'hisoria': 4, 'wf': 5, 'biologia': 2}\n",
    "\n",
    "    def complete_marks(self, sub, mark):\n",
    "        if 1 <= mark <= 6:\n",
    "            self.marks[sub] = mark\n",
    "\n",
    "    def print_marks(self):\n",
    "        for k,v in self.marks.items():\n",
    "            print(f'{k} - {v}')\n",
    "\n",
    "    def mean(self):\n",
    "        suma = 0\n",
    "        for x in self.marks.values():\n",
    "            suma+=x\n",
    "        return round(suma/len(self.marks),1)\n",
    "\n",
    "    def __str__(self):\n",
    "        return f'{self.imie} {self.nazwisko}, ocena - {self.mean()}'\n",
    "\n",
    "\n",
    "\n",
    "\n",
    "class Student(Pupil):\n",
    "    def __init__(self, imie, nazwisko):\n",
    "        super().__init__(imie, nazwisko)\n",
    "        self.weight = self.marks.copy()\n",
    "\n",
    "    def complete_weights(self):\n",
    "        for k,v in self.weight.items():\n",
    "            while True:\n",
    "                inp = float(input(f'podaj wage dla {k} zakres 0-1'))\n",
    "                if 0.0 <= inp <= 1.0:\n",
    "                    self.weight[k] = inp\n",
    "                    break\n",
    "    def mean(self):\n",
    "        suma = 0\n",
    "        for k,v in self.marks.items():\n",
    "            print(f'przedmiot {k}, ocena {v}, waga {self.weight[k]}')\n",
    "            suma+=v*self.weight[k]\n",
    "        return round(suma/len(self.marks),1)\n",
    "\n",
    "    def __str__(self):\n",
    "        return super().__str__()\n",
    "\n",
    "\n",
    "\n",
    "\n",
    "\n",
    "p = Pupil('Mateusz', 'Śliwiński')\n",
    "print(p.__str__())\n",
    "\n",
    "print()\n",
    "p2 = Student('Mati', 'Mati')\n",
    "p2.complete_weights()\n",
    "print(p2.__str__())"
   ],
   "metadata": {
    "collapsed": false
   }
  },
  {
   "cell_type": "code",
   "execution_count": 2,
   "outputs": [
    {
     "name": "stdout",
     "output_type": "stream",
     "text": [
      "23 \n",
      "Temp 23\n"
     ]
    }
   ],
   "source": [
    "from abc import ABC, abstractmethod\n",
    "\n",
    "\n",
    "class Temp:\n",
    "    def __init__(self, temp):\n",
    "        self.temp = temp\n",
    "\n",
    "    def __str__(self):\n",
    "        return f'{self.temp} '\n",
    "\n",
    "    def __repr__(self):\n",
    "        return f'{self.__class__.__name__} {self.temp}'\n",
    "\n",
    "    def above_freezing(self):\n",
    "        if self.temp > 0:\n",
    "            return True\n",
    "        return False\n",
    "\n",
    "    @abstractmethod\n",
    "    def convert_to_Farenheit(self):\n",
    "        return 1\n",
    "\n",
    "\n",
    "t = Temp(23)\n",
    "print(t.__str__())\n",
    "print(t.__repr__())"
   ],
   "metadata": {
    "collapsed": false
   }
  },
  {
   "cell_type": "code",
   "execution_count": null,
   "outputs": [],
   "source": [],
   "metadata": {
    "collapsed": false
   }
  }
 ],
 "metadata": {
  "kernelspec": {
   "display_name": "Python 3",
   "language": "python",
   "name": "python3"
  },
  "language_info": {
   "codemirror_mode": {
    "name": "ipython",
    "version": 2
   },
   "file_extension": ".py",
   "mimetype": "text/x-python",
   "name": "python",
   "nbconvert_exporter": "python",
   "pygments_lexer": "ipython2",
   "version": "2.7.6"
  }
 },
 "nbformat": 4,
 "nbformat_minor": 0
}
