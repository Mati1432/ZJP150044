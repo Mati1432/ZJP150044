{
 "cells": [
  {
   "cell_type": "code",
   "execution_count": 22,
   "metadata": {
    "collapsed": true
   },
   "outputs": [],
   "source": [
    "class Book:\n",
    "    def __init__(self, name: str, surname: str, title: str, publisher: str,\n",
    "                 place_publication: str, year: int):\n",
    "        self._name = name\n",
    "        self._surname = surname\n",
    "        self._title = title\n",
    "        self._publisher = publisher\n",
    "        self._place_publication = place_publication\n",
    "        self._year = year\n",
    "\n",
    "    def getter(self):\n",
    "        return self._name, self._surname, self._title, self._publisher, self._place_publication, self._year\n",
    "\n",
    "    def setter(self, name, surname, title, publisher, place_publication, year):\n",
    "        self._name = name\n",
    "        self._surname = surname\n",
    "        self._title = title\n",
    "        self._publisher = publisher\n",
    "        self._place_publication = place_publication\n",
    "        self._year = year\n",
    "\n",
    "    def del_attr(self):\n",
    "        del self._name\n",
    "        del self._name\n",
    "        del self._surname\n",
    "        del self._title\n",
    "        del self._publisher\n",
    "        del self._place_publication\n",
    "        del self._year\n",
    "\n",
    "    attr = property(getter, setter, del_attr)\n",
    "\n",
    "    def __str__(self):\n",
    "        return f'{self._name}'\n",
    "\n",
    "\n",
    "book = Book('Author', 'Last name', 'Title', 'publisher', 'place_publication',\n",
    "            1999)\n",
    "book.setter('Author', 'Last name', 'Title', 'publisher', 'place_publication',\n",
    "            1999)\n",
    "\n",
    "book.getter()\n",
    "book._name = 'Jan'\n",
    "\n",
    "del book._name"
   ]
  },
  {
   "cell_type": "code",
   "execution_count": null,
   "outputs": [],
   "source": [
    "class Person:\n",
    "    def __init__(self, name: str, surname: str, birth_date: int):\n",
    "        self.name = name\n",
    "        self.surname = surname\n",
    "        self.birth_date = birth_date\n",
    "\n",
    "    def __str__(self):\n",
    "        return f'{self.name} {self.surname} {self.birth_date}'\n",
    "\n",
    "\n",
    "class Book:\n",
    "    def __init__(self, title: str, author: Person, publisher_date):\n",
    "        self.title = title\n",
    "        self.author = author\n",
    "        self.publisher_date = publisher_date\n",
    "\n",
    "    def __str__(self):\n",
    "        return f'{self.title} {self.author} {self.publisher_date}'\n",
    "\n",
    "\n",
    "class Reader:\n",
    "    d\n"
   ],
   "metadata": {
    "collapsed": false
   }
  },
  {
   "cell_type": "markdown",
   "source": [],
   "metadata": {
    "collapsed": false
   }
  }
 ],
 "metadata": {
  "kernelspec": {
   "display_name": "Python 3",
   "language": "python",
   "name": "python3"
  },
  "language_info": {
   "codemirror_mode": {
    "name": "ipython",
    "version": 2
   },
   "file_extension": ".py",
   "mimetype": "text/x-python",
   "name": "python",
   "nbconvert_exporter": "python",
   "pygments_lexer": "ipython2",
   "version": "2.7.6"
  }
 },
 "nbformat": 4,
 "nbformat_minor": 0
}
