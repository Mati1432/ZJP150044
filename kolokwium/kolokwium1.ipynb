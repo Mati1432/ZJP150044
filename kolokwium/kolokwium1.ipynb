{
 "cells": [
  {
   "cell_type": "code",
   "execution_count": 95,
   "metadata": {
    "collapsed": true
   },
   "outputs": [
    {
     "name": "stdout",
     "output_type": "stream",
     "text": [
      "[14, 15, 21]\n",
      "[14, 15, 21]\n",
      "2022-12-01\n",
      "Equal True\n",
      "Non Equal False\n"
     ]
    }
   ],
   "source": [
    "import datetime\n",
    "\n",
    "\n",
    "class Course:\n",
    "    def __init__(self, destination: str = 'French', distance: float = 142.5,\n",
    "                 passengers: str = 15,\n",
    "                 date: datetime = datetime.date(2022, 12, 2)) -> None:\n",
    "        self.destination = destination\n",
    "        self.distance = distance\n",
    "        self.passengers = passengers\n",
    "        self.date = date\n",
    "\n",
    "    def check_date(self, date_now):\n",
    "        if self.date < date_now:\n",
    "            return self.date\n",
    "        else:\n",
    "            return date_now - datetime.timedelta(days=1)\n",
    "\n",
    "    def __str__(self):\n",
    "        return f'{self.destination} {self.distance} {self.passengers} {self.date}'\n",
    "\n",
    "    def __repr__(self):\n",
    "               return f'{self.passengers}'\n",
    "\n",
    "    def __lt__(self, other):\n",
    "        return self.passengers < other.passengers\n",
    "\n",
    "    def __eq__(self, other):\n",
    "        return (self.destination and self.date.day) == (other.destination and other.date.day)\n",
    "\n",
    "\n",
    "course = Course()\n",
    "\n",
    "courses = [\n",
    "    Course('UK', 142.5, '15', datetime.date(2022, 12, 2)),\n",
    "    Course('UK', 142.5, '14', datetime.date(2022, 12, 2)),\n",
    "    Course('UK', 142.5, '21', datetime.date(2022, 12, 2)),\n",
    "]\n",
    "\n",
    "print(sorted(courses))\n",
    "\n",
    "courses.sort(key=lambda x: x.passengers)\n",
    "print(courses)\n",
    "\n",
    "course1 = Course('UK', 142.5, '21', datetime.date(2022, 12, 3))\n",
    "\n",
    "course.check_date(datetime.date.today())\n",
    "print(course.check_date(datetime.date.today()))\n",
    "\n",
    "print('Equal', course.__eq__(course))\n",
    "print('Non Equal', course.__eq__(course1))"
   ]
  },
  {
   "cell_type": "code",
   "execution_count": 100,
   "outputs": [
    {
     "name": "stdout",
     "output_type": "stream",
     "text": [
      "[10, 21, 7]\n",
      "[7, 10, 21]\n",
      "[7, 10, 21]\n"
     ]
    },
    {
     "data": {
      "text/plain": "'bmw  10  UK  142.5  21  2022-12-03'"
     },
     "execution_count": 100,
     "metadata": {},
     "output_type": "execute_result"
    }
   ],
   "source": [
    "class Vehicle(Course):\n",
    "    def __init__(self, vehicle_brand: str, capacity: int,\n",
    "                 destination: str, distance: float,\n",
    "                 passengers: str,\n",
    "                 date: datetime):\n",
    "        super().__init__(destination, distance, passengers, date)\n",
    "        self.vehicle_brand = vehicle_brand\n",
    "        self.capacity = capacity\n",
    "\n",
    "        if self.capacity < 0:\n",
    "            self.capacity = 10\n",
    "\n",
    "    def __str__(self):\n",
    "        return f'{self.vehicle_brand}  {self.capacity}  {self.destination}  {self.distance}  {self.passengers}  {self.date}'\n",
    "\n",
    "    def __repr__(self):\n",
    "        return f'{self.capacity}'\n",
    "\n",
    "    def __lt__(self, other):\n",
    "        return self.capacity < other.capacity\n",
    "\n",
    "\n",
    "vehicle = Vehicle('bmw', -3, 'UK', 142.5, '21', datetime.date(2022, 12, 3))\n",
    "vehicle2 = Vehicle('bmw', 21, 'UK', 142.5, '21', datetime.date(2022, 12, 3))\n",
    "vehicle3 = Vehicle('bmw', 7, 'UK', 142.5, '21', datetime.date(2022, 12, 3))\n",
    "\n",
    "list_vehicle = [vehicle, vehicle2, vehicle3]\n",
    "\n",
    "print(sorted(list_vehicle))\n",
    "\n",
    "list_vehicle.sort(key=lambda x: x.capacity)\n",
    "print(list_vehicle)\n",
    "vehicle.__str__()\n",
    "\n"
   ],
   "metadata": {
    "collapsed": false
   }
  },
  {
   "cell_type": "code",
   "execution_count": 111,
   "outputs": [
    {
     "name": "stdout",
     "output_type": "stream",
     "text": [
      "[14, 15, 10, 21, 7, 21]\n"
     ]
    }
   ],
   "source": [
    "# Nie działajacy kod tuple problem\n",
    "\n",
    "\n",
    "# vehicle = Vehicle('bmw', -3, 'UK', 142.5, '21', datetime.date(2022, 12, 3))\n",
    "# vehicle2 = Vehicle('bmw', 21, 'UK', 142.5, '21', datetime.date(2022, 12, 3))\n",
    "# vehicle3 = Vehicle('bmw', 7, 'UK', 142.5, '21', datetime.date(2022, 12, 3))\n",
    "# course1 = Course('UK', 142.5, '15', datetime.date(2022, 12, 2)),\n",
    "# course2 = Course('UK', 142.5, '14', datetime.date(2022, 12, 2)),\n",
    "# course3 = Course('UK', 142.5, '21', datetime.date(2022, 12, 2)),\n",
    "#\n",
    "# list_for_sort = [vehicle, vehicle2, vehicle3, course1, course2, course3]\n",
    "\n",
    "\n",
    "\n",
    "list_for_sort = [\n",
    "    Vehicle('bmw', -3, 'UK', 142.5, '21', datetime.date(2022, 12, 3)),\n",
    "    Vehicle('bmw', 21, 'UK', 142.5, '21', datetime.date(2022, 12, 3)),\n",
    "    Vehicle('bmw', 7, 'UK', 142.5, '21', datetime.date(2022, 12, 3)),\n",
    "    Course('UK', 142.5, '15', datetime.date(2022, 12, 2)),\n",
    "    Course('UK', 142.5, '14', datetime.date(2022, 12, 2)),\n",
    "    Course('UK', 142.5, '21', datetime.date(2022, 12, 2)),\n",
    "]\n",
    "\n",
    "list_for_sort.sort(key=lambda x: x.passengers)\n",
    "print(list_for_sort)"
   ],
   "metadata": {
    "collapsed": false
   }
  },
  {
   "cell_type": "code",
   "execution_count": 103,
   "outputs": [
    {
     "name": "stdout",
     "output_type": "stream",
     "text": [
      "samsung\n",
      "{'brand': 'samsung', 'model': 'Ax10', 'Opinia': 'its work'}\n"
     ]
    }
   ],
   "source": [
    "class Smartphone:\n",
    "\n",
    "    __record = {\n",
    "    \"brand\": \"\",\n",
    "    \"model\": \"\",\n",
    "    }\n",
    "    def __init__(self, brand: str, model: str) -> None:\n",
    "        self.__record['brand'] = brand\n",
    "        self.__record['model'] = model\n",
    "\n",
    "    def __getitem__(self, item):\n",
    "        return self.__record[item]\n",
    "\n",
    "    def __setitem__(self, key, value):\n",
    "        self.__record[key] = value\n",
    "\n",
    "    def __str__(self):\n",
    "        return f'{self.__record}'\n",
    "\n",
    "\n",
    "a = Smartphone('samsung','Ax10')\n",
    "print(a.__getitem__('brand'))\n",
    "a.__setitem__('Opinia','its work')\n",
    "\n",
    "print(a.__str__())"
   ],
   "metadata": {
    "collapsed": false
   }
  },
  {
   "cell_type": "code",
   "execution_count": 104,
   "outputs": [
    {
     "name": "stdout",
     "output_type": "stream",
     "text": [
      "City: ArabiaWschodnia pop: 26000\n"
     ]
    }
   ],
   "source": [
    "class City:\n",
    "    def __init__(self, name: str, population: int) -> None:\n",
    "        self.name = name\n",
    "        self.population = population\n",
    "\n",
    "    def __add__(self, other):\n",
    "        return f'City: {self.name + other.name} pop: {self.population + other.population}'\n",
    "\n",
    "c1 = City('Arabia',12000)\n",
    "c2 = City('Wschodnia', 14000)\n",
    "print(c1.__add__(c2))"
   ],
   "metadata": {
    "collapsed": false
   }
  },
  {
   "cell_type": "code",
   "execution_count": null,
   "outputs": [],
   "source": [],
   "metadata": {
    "collapsed": false
   }
  }
 ],
 "metadata": {
  "kernelspec": {
   "display_name": "Python 3",
   "language": "python",
   "name": "python3"
  },
  "language_info": {
   "codemirror_mode": {
    "name": "ipython",
    "version": 2
   },
   "file_extension": ".py",
   "mimetype": "text/x-python",
   "name": "python",
   "nbconvert_exporter": "python",
   "pygments_lexer": "ipython2",
   "version": "2.7.6"
  }
 },
 "nbformat": 4,
 "nbformat_minor": 0
}
